{
 "cells": [
  {
   "cell_type": "markdown",
   "metadata": {},
   "source": [
    "# D&D Name generator"
   ]
  },
  {
   "cell_type": "code",
   "execution_count": 1,
   "metadata": {},
   "outputs": [],
   "source": [
    "%matplotlib inline\n",
    "\n",
    "import os\n",
    "import sys\n",
    "PROJECT_ROOT = os.path.dirname(os.getcwd())\n",
    "sys.path.append(PROJECT_ROOT)"
   ]
  },
  {
   "cell_type": "code",
   "execution_count": 2,
   "metadata": {},
   "outputs": [],
   "source": [
    "from collections import defaultdict\n",
    "\n",
    "import numpy as np\n",
    "import matplotlib.pyplot as plt\n",
    "\n",
    "from data import DnDCharacterNameDataset\n",
    "from train import RNNLayerTrainer\n",
    "from generator import RNNLayerGenerator\n",
    "from utils import read_log"
   ]
  },
  {
   "cell_type": "markdown",
   "metadata": {},
   "source": [
    "## Dataset\n",
    "\n",
    "Basic information about dataset"
   ]
  },
  {
   "cell_type": "code",
   "execution_count": 3,
   "metadata": {},
   "outputs": [
    {
     "name": "stdout",
     "output_type": "stream",
     "text": [
      "Name: ['M', 'y', 'r', 'k', 'a']\n",
      "Gender: ['female', 'female', 'female', 'female', 'female']\n",
      "Race: ['dragonborn', 'dragonborn', 'dragonborn', 'dragonborn', 'dragonborn']\n",
      "Target letters: ['y', 'r', 'k', 'a', '.']\n"
     ]
    }
   ],
   "source": [
    "# Read the dataset\n",
    "dataset = DnDCharacterNameDataset(os.path.join(PROJECT_ROOT, \"data\"))\n",
    "\n",
    "# Print sample from dataset\n",
    "train, target = dataset[4]\n",
    "print(\"Name: {}\".format(train['name']))\n",
    "print(\"Gender: {}\".format(train['gender']))  # List genders and races are just convinient way of storing information per\n",
    "print(\"Race: {}\".format(train['race']))      # letter for later transformation to indices\n",
    "print(\"Target letters: {}\".format(target))"
   ]
  },
  {
   "cell_type": "markdown",
   "metadata": {},
   "source": [
    "**How many names per race?**"
   ]
  },
  {
   "cell_type": "code",
   "execution_count": 4,
   "metadata": {},
   "outputs": [
    {
     "name": "stdout",
     "output_type": "stream",
     "text": [
      "defaultdict(<class 'int'>, {'dragonborn': 154, 'dwarf': 218, 'elf': 202, 'halfling': 171, 'halforc': 124, 'human': 260, 'tiefling': 193})\n"
     ]
    },
    {
     "data": {
      "image/png": "[encoded data removed]",
      "text/plain": [
       "<Figure size 432x288 with 1 Axes>"
      ]
     },
     "metadata": {
      "needs_background": "light"
     },
     "output_type": "display_data"
    }
   ],
   "source": [
    "counter = defaultdict(int)\n",
    "\n",
    "for train, target in dataset:\n",
    "    race = train['race'][0]\n",
    "    counter[race] += 1\n",
    "print(counter)\n",
    "    \n",
    "x = np.arange(len(counter))\n",
    "labels, y = zip(*counter.items())\n",
    "\n",
    "plt.bar(x, y, tick_label=labels)\n",
    "plt.ylabel(\"Count\")\n",
    "plt.show()"
   ]
  },
  {
   "cell_type": "markdown",
   "metadata": {},
   "source": [
    "**How mana names with same first later?**"
   ]
  },
  {
   "cell_type": "code",
   "execution_count": 5,
   "metadata": {},
   "outputs": [
    {
     "name": "stdout",
     "output_type": "stream",
     "text": [
      "defaultdict(<class 'int'>, {'A': 117, 'K': 65, 'L': 53, 'M': 105, 'N': 57, 'O': 34, 'S': 99, 'T': 95, 'V': 59, 'Z': 21, 'B': 75, 'C': 50, 'D': 74, 'E': 55, 'F': 41, 'G': 58, 'H': 52, 'J': 22, 'P': 38, 'Q': 13, 'R': 65, 'U': 14, 'I': 30, 'X': 6, 'W': 17, 'Y': 7})\n"
     ]
    },
    {
     "data": {
      "image/png": "[encoded data removed]",
      "text/plain": [
       "<Figure size 432x288 with 1 Axes>"
      ]
     },
     "metadata": {
      "needs_background": "light"
     },
     "output_type": "display_data"
    }
   ],
   "source": [
    "counter = defaultdict(int)\n",
    "\n",
    "for train, target in dataset:\n",
    "    first_letter = train['name'][0]\n",
    "    counter[first_letter] += 1\n",
    "    \n",
    "x = np.arange(len(counter))\n",
    "labels, y = zip(*sorted(counter.items()))\n",
    "print(counter)\n",
    "\n",
    "plt.bar(x, y, tick_label=labels)\n",
    "plt.ylabel(\"Count\")\n",
    "plt.show()"
   ]
  },
  {
   "cell_type": "markdown",
   "metadata": {},
   "source": [
    "## Training"
   ]
  },
  {
   "cell_type": "markdown",
   "metadata": {},
   "source": [
    "Training configuration"
   ]
  },
  {
   "cell_type": "code",
   "execution_count": 6,
   "metadata": {},
   "outputs": [],
   "source": [
    "epochs = 300\n",
    "batch_size = 128\n",
    "hidden_size = 128\n",
    "learning_rate = 0.0001\n",
    "device = \"cuda\"\n",
    "logfile = \"train_loss.log\"\n",
    "verbose = 0  # Removing outputs during training"
   ]
  },
  {
   "cell_type": "markdown",
   "metadata": {},
   "source": [
    "Initialize trainer"
   ]
  },
  {
   "cell_type": "code",
   "execution_count": 7,
   "metadata": {},
   "outputs": [],
   "source": [
    "trainer = RNNLayerTrainer(os.path.join(PROJECT_ROOT, \"data\"),\n",
    "                          epochs=epochs,\n",
    "                          batch_size=batch_size,\n",
    "                          hidden_size=hidden_size,\n",
    "                          lr=learning_rate,\n",
    "                          device=device,\n",
    "                          logfile=logfile,\n",
    "                          verbose=verbose)"
   ]
  },
  {
   "cell_type": "markdown",
   "metadata": {},
   "source": [
    "Run training loop for number of `epochs` and log losses. Models will be saved on 25 epoch intervals."
   ]
  },
  {
   "cell_type": "code",
   "execution_count": 8,
   "metadata": {},
   "outputs": [
    {
     "name": "stdout",
     "output_type": "stream",
     "text": [
      "Started training!\n",
      "Finished training!\n"
     ]
    }
   ],
   "source": [
    "trainer.run_train_loop()"
   ]
  },
  {
   "cell_type": "markdown",
   "metadata": {},
   "source": [
    "Plot losses during training"
   ]
  },
  {
   "cell_type": "code",
   "execution_count": 9,
   "metadata": {},
   "outputs": [
    {
     "data": {
      "image/png": "[encoded data removed]",
      "text/plain": [
       "<Figure size 432x288 with 1 Axes>"
      ]
     },
     "metadata": {
      "needs_background": "light"
     },
     "output_type": "display_data"
    }
   ],
   "source": [
    "epochs, losses = read_log(os.path.join(PROJECT_ROOT, \"train_loss.log\"))\n",
    "\n",
    "assert len(epochs) == len(losses), \"Mismatch lengths. {} != {}\".format(len(epochs), len(losses))\n",
    "\n",
    "plt.plot(np.arange(len(losses)), losses)\n",
    "plt.xlabel(\"Epoch\")\n",
    "plt.ylabel(\"Loss\")\n",
    "plt.show()"
   ]
  },
  {
   "cell_type": "markdown",
   "metadata": {},
   "source": [
    "## Evaluation\n",
    "\n",
    "* Examination of name quality over epochs\n",
    "* Comparision between generated names and real examples"
   ]
  },
  {
   "cell_type": "markdown",
   "metadata": {},
   "source": [
    "Create helper function that is going to find most similar name in dataset"
   ]
  },
  {
   "cell_type": "code",
   "execution_count": 4,
   "metadata": {},
   "outputs": [],
   "source": [
    "import distance\n",
    "\n",
    "def most_similar_name(name):\n",
    "    \"\"\"Find most similar name in dataset based on Levenshtein distance\"\"\"\n",
    "    min_score = 1\n",
    "    similar_name = None\n",
    "    \n",
    "    for train, _ in dataset:\n",
    "        n = \"\".join(train['name'])\n",
    "        score = distance.levenshtein(n, name, normalized=True)\n",
    "        \n",
    "        if score < min_score:\n",
    "            min_score = score\n",
    "            similar_name = n\n",
    "    \n",
    "    return similar_name, min_score"
   ]
  },
  {
   "cell_type": "markdown",
   "metadata": {},
   "source": [
    "To validate how good generated names are, let us focus on only one specific letter/race/gender combination. This will make tracking changes across epochs easier. In this case, we'll sample an **Elven**, **Female** character name with start letter __B__. Since the model is trained on 300 epochs, let's take models at epochs **15**, **50**, **100**, **200**, **300**."
   ]
  },
  {
   "cell_type": "code",
   "execution_count": 11,
   "metadata": {},
   "outputs": [
    {
     "name": "stdout",
     "output_type": "stream",
     "text": [
      "Samples from model on epoch 15\n",
      "Generated name: Biyleth\n",
      "Most similar name: Keyleth with score 0.29\n",
      "\n",
      "Samples from model on epoch 50\n",
      "Generated name: Bival\n",
      "Most similar name: Mival with score 0.20\n",
      "\n",
      "Samples from model on epoch 100\n",
      "Generated name: Belen\n",
      "Most similar name: Velene with score 0.33\n",
      "\n",
      "Samples from model on epoch 200\n",
      "Generated name: Bethrynna\n",
      "Most similar name: Bethrynna with score 0.00\n",
      "\n",
      "Samples from model on epoch 300\n",
      "Generated name: Bethraloel\n",
      "Most similar name: Bethrynna with score 0.50\n",
      "\n"
     ]
    }
   ],
   "source": [
    "model_nums = [15, 50, 100, 200, 300]  # Take models from these epochs\n",
    "\n",
    "for model_num in model_nums:\n",
    "    model_path = os.path.join(PROJECT_ROOT, \"models\", \"rnn_layer_epoch_{}.pt\".format(model_num))\n",
    "    generator = RNNLayerGenerator(model_path)\n",
    "    \n",
    "    letter, race, gender = \"B\", \"elf\", \"female\"\n",
    "    name = generator.sample(letter, race, gender)\n",
    "    similar_name, score = most_similar_name(name)\n",
    "    \n",
    "    print(\"Samples from model on epoch {}\".format(model_num))\n",
    "    print(\"Generated name: {}\".format(name))\n",
    "    print(\"Most similar name: {} with score {:.2f}\\n\".format(similar_name, score))"
   ]
  },
  {
   "cell_type": "markdown",
   "metadata": {},
   "source": [
    "**Comments**\n",
    "\n",
    "To give a better perspective, these are the only Female Elf names that start with letter B:\n",
    "\n",
    "Bethrynna   \n",
    "Birel   \n",
    "Baelitae   \n",
    "Bethrynna   \n",
    "\n",
    "From the previous example, you can see that the model is not trying to reproduce exact names but actually combine with others, for example, Bival (generated name) vs Mival (real name). Which doesn't sound so bad... Of course, there is some repetition with Bethrynna, but there is always a chance for that to happen.\n",
    "\n",
    "Interestingly, it's hard to determine from these examples which of the models is actually the best here... I guess a deeper investigation on how the probabilities are distributed when sampling new letter might give more insight. Did we just gut lucky with randomness or some letters have much higher probability?"
   ]
  }
 ],
 "metadata": {
  "kernelspec": {
   "display_name": "Python 3",
   "language": "python",
   "name": "python3"
  },
  "language_info": {
   "codemirror_mode": {
    "name": "ipython",
    "version": 3
   },
   "file_extension": ".py",
   "mimetype": "text/x-python",
   "name": "python",
   "nbconvert_exporter": "python",
   "pygments_lexer": "ipython3",
   "version": "3.6.7"
  }
 },
 "nbformat": 4,
 "nbformat_minor": 2
}
